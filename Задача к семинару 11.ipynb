{
  "metadata": {
    "language_info": {
      "codemirror_mode": {
        "name": "python",
        "version": 3
      },
      "file_extension": ".py",
      "mimetype": "text/x-python",
      "name": "python",
      "nbconvert_exporter": "python",
      "pygments_lexer": "ipython3",
      "version": "3.8"
    },
    "kernelspec": {
      "name": "python",
      "display_name": "Python (Pyodide)",
      "language": "python"
    }
  },
  "nbformat_minor": 4,
  "nbformat": 4,
  "cells": [
    {
      "cell_type": "markdown",
      "source": "Определяем библиотеки для дальнейшей работы:",
      "metadata": {}
    },
    {
      "cell_type": "code",
      "source": "import numpy as np\nimport matplotlib.pyplot as plt",
      "metadata": {
        "trusted": true
      },
      "execution_count": 3,
      "outputs": []
    },
    {
      "cell_type": "markdown",
      "source": "Задаём функцию:",
      "metadata": {}
    },
    {
      "cell_type": "code",
      "source": "def f(x):\n    return -12*x**4*np.sin(np.cos(x)) - 18*x**3 + 5*x**2 + 10*x - 30",
      "metadata": {
        "trusted": true
      },
      "execution_count": 4,
      "outputs": []
    },
    {
      "cell_type": "markdown",
      "source": "Определяем корни:",
      "metadata": {}
    },
    {
      "cell_type": "code",
      "source": "roots = np.roots([-12,0,-18,5,10,-30])\nprint(\"Корни: \", roots)",
      "metadata": {
        "trusted": true
      },
      "execution_count": 5,
      "outputs": [
        {
          "name": "stdout",
          "text": "Корни:  [-0.25325532+1.50956257j -0.25325532-1.50956257j -1.04111914+0.j\n  0.77381489+0.65277341j  0.77381489-0.65277341j]\n",
          "output_type": "stream"
        }
      ]
    },
    {
      "cell_type": "markdown",
      "source": "Находим интервалы, на которых функция возрастает:",
      "metadata": {}
    },
    {
      "cell_type": "markdown",
      "source": "Производная функции:",
      "metadata": {}
    },
    {
      "cell_type": "code",
      "source": "def f_prime(x):\n    return -48*x**3*np.sin(np.cos(x)) + 12*x**3*np.sin(np.sin(x))*np.cos(x) - 54*x**2 + 10",
      "metadata": {
        "trusted": true
      },
      "execution_count": 6,
      "outputs": []
    },
    {
      "cell_type": "code",
      "source": "inc_intervals = []\nfor i in range(len(roots)):\n    if f_prime(roots[i]-0.01) > 0 and f_prime(roots[i]+0.01) > 0:\n        x_l = roots[i]-0.01\n        while f_prime(x_l) > 0:\n            x_l -= 0.01\n        x_r = roots[i]+0.01\n        while f_prime(x_r) > 0:\n            x_r += 0.01\n        inc_intervals.append((x_l, x_r))\nprint(\"Интервалы, на которых функция возрастает: \", inc_intervals)",
      "metadata": {
        "trusted": true
      },
      "execution_count": 7,
      "outputs": [
        {
          "name": "stdout",
          "text": "Интервалы, на которых функция возрастает:  [((-0.3432553176936566+1.5095625715873648j), (0.4067446823063438+1.5095625715873648j)), ((-0.3432553176936566-1.5095625715873648j), (0.4067446823063438-1.5095625715873648j)), ((-0.40618511008909447+0.6527734053287538j), (0.8038148899109063+0.6527734053287538j)), ((-0.40618511008909447-0.6527734053287538j), (0.8038148899109063-0.6527734053287538j))]\n",
          "output_type": "stream"
        }
      ]
    },
    {
      "cell_type": "markdown",
      "source": "Находим интервалы, на которых функция убывает:",
      "metadata": {}
    },
    {
      "cell_type": "code",
      "source": "dec_intervals = []\nfor i in range(len(roots)):\n    if f_prime(roots[i]-0.01) < 0 and f_prime(roots[i]+0.01) < 0:\n        x_l = roots[i]-0.01\n        while f_prime(x_l) < 0:\n            x_l -= 0.01\n        x_r = roots[i]+0.01\n        while f_prime(x_r) < 0:\n            x_r += 0.01\n        dec_intervals.append((x_l, x_r))\nprint(\"Интервалы, на которых функция убывает: \", dec_intervals)\n",
      "metadata": {
        "trusted": true
      },
      "execution_count": 8,
      "outputs": [
        {
          "name": "stdout",
          "text": "Интервалы, на которых функция убывает:  [((-5.011119144434438+0j), (-0.5711191444345005+0j))]\n",
          "output_type": "stream"
        }
      ]
    },
    {
      "cell_type": "markdown",
      "source": "Построим график функции:",
      "metadata": {}
    },
    {
      "cell_type": "code",
      "source": "x = np.linspace(-2,2,1000)\ny = f(x)\nplt.plot(x, y)\nplt.grid(True)\nplt.show()",
      "metadata": {
        "trusted": true
      },
      "execution_count": 9,
      "outputs": [
        {
          "output_type": "display_data",
          "data": {
            "text/plain": "<Figure size 640x480 with 1 Axes>",
            "image/png": "[encoded data removed]"
          },
          "metadata": {}
        }
      ]
    },
    {
      "cell_type": "markdown",
      "source": "Вычисляем вершину:",
      "metadata": {}
    },
    {
      "cell_type": "code",
      "source": "from scipy.optimize import minimize_scalar\nres = minimize_scalar(f)\nprint(\"Вершина: (\", res.x, \", \", res.fun, \")\")",
      "metadata": {
        "trusted": true
      },
      "execution_count": 10,
      "outputs": [
        {
          "name": "stdout",
          "text": "Вершина: ( 1.7006072856678967 ,  -74.10629308610869 )\n",
          "output_type": "stream"
        }
      ]
    },
    {
      "cell_type": "markdown",
      "source": "Определяем промежутки, на котором f > 0:",
      "metadata": {}
    },
    {
      "cell_type": "code",
      "source": "pos_intervals = []\nprev_x = x[0]\nprev_y = y[0]\nfor i in range(1,len(x)):\n    if prev_y <= 0 and y[i] > 0:\n        x_l = prev_x\n        x_r = x[i]\n        while abs(f((x_l+x_r)/2)) > 0.001:\n            if f((x_l+x_r)/2) > 0:\n                x_l = (x_l+x_r)/2\n            else:\n                x_r = (x_l+x_r)/2\n        pos_intervals.append((x_l, x_r))\n    prev_x = x[i]\n    prev_y = y[i]\n    \nprint(\"Промежутки, на которых f > 0: \", pos_intervals)",
      "metadata": {
        "trusted": true
      },
      "execution_count": 11,
      "outputs": [
        {
          "name": "stdout",
          "text": "Промежутки, на которых f > 0:  []\n",
          "output_type": "stream"
        }
      ]
    },
    {
      "cell_type": "markdown",
      "source": "Определяем промежутки, на котором f < 0:",
      "metadata": {}
    },
    {
      "cell_type": "code",
      "source": "neg_intervals = []\nprev_x = x[0]\nprev_y = y[0]\nfor i in range(1,len(x)):\n    if prev_y >= 0 and y[i] < 0:\n        x_l = prev_x\n        x_r = x[i]\n        while abs(f((x_l+x_r)/2)) > 0.001:\n            if f((x_l+x_r)/2) < 0:\n                x_l = (x_l+x_r)/2\n            else:\n                x_r = (x_l+x_r)/2\n        neg_intervals.append((x_l, x_r))\n    prev_x = x[i]\n    prev_y = y[i]\n    \nprint(\"Промежутки, на которых f < 0: \", neg_intervals)",
      "metadata": {
        "trusted": true
      },
      "execution_count": null,
      "outputs": []
    },
    {
      "cell_type": "code",
      "source": "",
      "metadata": {},
      "execution_count": null,
      "outputs": []
    }
  ]
}